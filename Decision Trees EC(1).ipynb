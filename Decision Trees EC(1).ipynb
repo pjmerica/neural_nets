{
 "cells": [
  {
   "cell_type": "code",
   "execution_count": null,
   "id": "f00368ea",
   "metadata": {},
   "outputs": [],
   "source": [
    "from sklearn.datasets import load_iris\n",
    "from sklearn.model_selection import train_test_split\n",
    "from sklearn.tree import DecisionTreeClassifier\n",
    "## Importing required libraries\n",
    "import numpy as np\n",
    "import pandas as pd\n",
    "import matplotlib.pyplot as plt\n",
    "import skopt\n",
    "from skopt import gp_minimize\n",
    "import warnings\n",
    "from keras.models import Sequential\n",
    "from keras.layers import Dense, Dropout\n",
    "import keras\n",
    "from tensorflow.keras import layers\n",
    "from tensorflow.keras import regularizers\n",
    "import sklearn\n",
    "import seaborn as sns\n",
    "from sklearn.metrics import confusion_matrix\n",
    "import random\n",
    "from xgboost import plot_importance"
   ]
  },
  {
   "cell_type": "code",
   "execution_count": null,
   "id": "9a5b6fab",
   "metadata": {},
   "outputs": [],
   "source": [
    "pip install shap"
   ]
  },
  {
   "cell_type": "code",
   "execution_count": null,
   "id": "586dbccd",
   "metadata": {},
   "outputs": [],
   "source": [
    "pip install imblearn"
   ]
  },
  {
   "cell_type": "code",
   "execution_count": null,
   "id": "f332f72d",
   "metadata": {
    "scrolled": true
   },
   "outputs": [],
   "source": [
    "df = pd.read_csv('diabetes_prediction_dataset.csv')\n",
    "df"
   ]
  },
  {
   "cell_type": "code",
   "execution_count": null,
   "id": "9b40961f",
   "metadata": {},
   "outputs": [],
   "source": [
    "df_train = df.drop('diabetes', axis=1)"
   ]
  },
  {
   "cell_type": "code",
   "execution_count": null,
   "id": "5497433d",
   "metadata": {},
   "outputs": [],
   "source": [
    "X_train, X_test, y_train, y_test = train_test_split(df_train, df['diabetes'], test_size=0.2, random_state=42)"
   ]
  },
  {
   "cell_type": "code",
   "execution_count": null,
   "id": "204078f2",
   "metadata": {},
   "outputs": [],
   "source": []
  },
  {
   "cell_type": "code",
   "execution_count": null,
   "id": "a39cd837",
   "metadata": {},
   "outputs": [],
   "source": [
    "X_train"
   ]
  },
  {
   "cell_type": "code",
   "execution_count": null,
   "id": "24b16be3",
   "metadata": {},
   "outputs": [],
   "source": [
    "y_train"
   ]
  },
  {
   "cell_type": "code",
   "execution_count": null,
   "id": "6a4ef1a5",
   "metadata": {},
   "outputs": [],
   "source": [
    "#gotta encode for the decision tree\n",
    "from sklearn.preprocessing import LabelEncoder\n",
    "\n",
    "le = LabelEncoder()\n",
    "X_train = X_train.copy()\n",
    "X_train.loc[:, 'gender'] = le.fit_transform(X_train['gender'])\n",
    "X_train.loc[:, 'smoking_history'] = le.fit_transform(X_train['smoking_history'])"
   ]
  },
  {
   "cell_type": "code",
   "execution_count": null,
   "id": "fcc2722d",
   "metadata": {},
   "outputs": [],
   "source": [
    "#gotta encode for the decision tree\n",
    "from sklearn.preprocessing import LabelEncoder\n",
    "\n",
    "X_test = X_test.copy()\n",
    "\n",
    "le = LabelEncoder()\n",
    "X_test.loc[:, 'gender'] = le.fit_transform(X_test['gender'])\n",
    "X_test.loc[:, 'smoking_history'] = le.fit_transform(X_test['smoking_history'])"
   ]
  },
  {
   "cell_type": "code",
   "execution_count": null,
   "id": "ef5040b0",
   "metadata": {},
   "outputs": [],
   "source": [
    "from sklearn.tree import DecisionTreeClassifier\n",
    "\n",
    "dt = DecisionTreeClassifier(random_state=42)\n",
    "dt.fit(X_train, y_train)\n",
    "\n",
    "\n",
    "accuracy = dt.score(X_test, y_test)\n",
    "accuracy"
   ]
  },
  {
   "cell_type": "code",
   "execution_count": null,
   "id": "71050911",
   "metadata": {},
   "outputs": [],
   "source": [
    "from sklearn.metrics import confusion_matrix\n",
    "from sklearn.metrics import classification_report\n",
    "y_pred = dt.predict(X_test)\n",
    "cm = confusion_matrix(y_test,y_pred)\n",
    "plt.figure(figsize=(7,5))\n",
    "sns.heatmap(cm,annot=True)\n",
    "plt.xlabel('Predicted')\n",
    "plt.ylabel('actual')\n",
    "\n",
    "print(classification_report(y_test,y_pred, target_names=['Class 0','Class 1']))\n"
   ]
  },
  {
   "cell_type": "code",
   "execution_count": null,
   "id": "8fe0f69c",
   "metadata": {},
   "outputs": [],
   "source": [
    "from imblearn.over_sampling import SMOTE\n",
    "smote = SMOTE(random_state=42)\n",
    "X_train_balanced, y_train_balanced = smote.fit_resample(X_train, y_train)\n",
    "\n",
    "dt = DecisionTreeClassifier(random_state=42)\n",
    "dt.fit(X_train_balanced, y_train_balanced)\n",
    "\n",
    "accuracy = dt.score(X_test, y_test)\n",
    "print(accuracy)"
   ]
  },
  {
   "cell_type": "code",
   "execution_count": null,
   "id": "42c47ac4",
   "metadata": {},
   "outputs": [],
   "source": [
    "from sklearn.metrics import confusion_matrix\n",
    "from sklearn.metrics import classification_report\n",
    "y_pred = dt.predict(X_test)\n",
    "cm = confusion_matrix(y_test,y_pred)\n",
    "plt.figure(figsize=(7,5))\n",
    "sns.heatmap(cm,annot=True)\n",
    "plt.xlabel('Predicted')\n",
    "plt.ylabel('actual')\n",
    "\n",
    "print(classification_report(y_test,y_pred, target_names=['Class 0','Class 1']))"
   ]
  },
  {
   "cell_type": "code",
   "execution_count": null,
   "id": "169d2dfb",
   "metadata": {},
   "outputs": [],
   "source": [
    "from xgboost import XGBClassifier\n",
    "\n",
    "xgb = XGBClassifier(random_state=42)\n",
    "xgb.fit(X_train, y_train)\n",
    "\n",
    "\n",
    "accuracy = xgb.score(X_test, y_test)\n",
    "accuracy"
   ]
  },
  {
   "cell_type": "code",
   "execution_count": null,
   "id": "9228795f",
   "metadata": {},
   "outputs": [],
   "source": [
    "plot_importance(xgb)\n",
    "plt.show()\n"
   ]
  },
  {
   "cell_type": "code",
   "execution_count": null,
   "id": "99ff651d",
   "metadata": {},
   "outputs": [],
   "source": [
    "from sklearn.metrics import confusion_matrix\n",
    "from sklearn.metrics import classification_report\n",
    "y_pred = xgb.predict(X_test)\n",
    "cm = confusion_matrix(y_test,y_pred)\n",
    "plt.figure(figsize=(7,5))\n",
    "sns.heatmap(cm,annot=True)\n",
    "plt.xlabel('Predicted')\n",
    "plt.ylabel('actual')\n",
    "\n",
    "print(classification_report(y_test,y_pred, target_names=['Class 0','Class 1']))\n"
   ]
  },
  {
   "cell_type": "code",
   "execution_count": null,
   "id": "9399617b",
   "metadata": {},
   "outputs": [],
   "source": [
    "from xgboost import XGBClassifier\n",
    "\n",
    "xgb_balanced = XGBClassifier(random_state=42)\n",
    "xgb_balanced.fit(X_train_balanced, y_train_balanced)\n",
    "\n",
    "\n",
    "accuracy = xgb_balanced.score(X_test, y_test)\n",
    "accuracy"
   ]
  },
  {
   "cell_type": "code",
   "execution_count": null,
   "id": "d1a13575",
   "metadata": {},
   "outputs": [],
   "source": [
    "from sklearn.metrics import confusion_matrix\n",
    "from sklearn.metrics import classification_report\n",
    "y_pred = xgb_balanced.predict(X_test)\n",
    "cm = confusion_matrix(y_test,y_pred)\n",
    "plt.figure(figsize=(7,5))\n",
    "sns.heatmap(cm,annot=True)\n",
    "plt.xlabel('Predicted')\n",
    "plt.ylabel('actual')\n",
    "\n",
    "print(classification_report(y_test,y_pred, target_names=['Class 0','Class 1']))\n"
   ]
  },
  {
   "cell_type": "code",
   "execution_count": null,
   "id": "3445dcf2",
   "metadata": {},
   "outputs": [],
   "source": [
    "plot_importance(xgb_balanced)\n",
    "plt.show()\n"
   ]
  },
  {
   "cell_type": "code",
   "execution_count": null,
   "id": "a0e7ad1f",
   "metadata": {},
   "outputs": [],
   "source": [
    "from sklearn.ensemble import BaggingClassifier\n",
    "\n",
    "bagging = BaggingClassifier(random_state=42)\n",
    "bagging.fit(X_train, y_train)\n",
    "\n",
    "\n",
    "accuracy = bagging.score(X_test, y_test)\n",
    "accuracy"
   ]
  },
  {
   "cell_type": "code",
   "execution_count": null,
   "id": "47bb02d5",
   "metadata": {},
   "outputs": [],
   "source": [
    "from sklearn.metrics import confusion_matrix\n",
    "from sklearn.metrics import classification_report\n",
    "y_pred = bagging.predict(X_test)\n",
    "cm = confusion_matrix(y_test,y_pred)\n",
    "plt.figure(figsize=(7,5))\n",
    "sns.heatmap(cm,annot=True)\n",
    "plt.xlabel('Predicted')\n",
    "plt.ylabel('actual')\n",
    "\n",
    "print(classification_report(y_test,y_pred, target_names=['Class 0','Class 1']))"
   ]
  },
  {
   "cell_type": "code",
   "execution_count": null,
   "id": "6adeeb3b",
   "metadata": {},
   "outputs": [],
   "source": [
    "from sklearn.ensemble import BaggingClassifier\n",
    "\n",
    "bagging_balanced = BaggingClassifier(random_state=42)\n",
    "bagging_balanced.fit(X_train_balanced, y_train_balanced)\n",
    "\n",
    "\n",
    "accuracy = bagging_balanced.score(X_test, y_test)\n",
    "accuracy"
   ]
  },
  {
   "cell_type": "code",
   "execution_count": null,
   "id": "e9f22658",
   "metadata": {},
   "outputs": [],
   "source": [
    "from sklearn.metrics import confusion_matrix\n",
    "from sklearn.metrics import classification_report\n",
    "y_pred = bagging_balanced.predict(X_test)\n",
    "cm = confusion_matrix(y_test,y_pred)\n",
    "plt.figure(figsize=(7,5))\n",
    "sns.heatmap(cm,annot=True)\n",
    "plt.xlabel('Predicted')\n",
    "plt.ylabel('actual')\n",
    "\n",
    "print(classification_report(y_test,y_pred, target_names=['Class 0','Class 1']))"
   ]
  },
  {
   "cell_type": "code",
   "execution_count": null,
   "id": "4c1ede1c",
   "metadata": {},
   "outputs": [],
   "source": [
    "from sklearn.ensemble import RandomForestClassifier\n",
    "\n",
    "rf = RandomForestClassifier(random_state=42)\n",
    "rf.fit(X_train, y_train)\n",
    "\n",
    "\n",
    "accuracy = rf.score(X_test, y_test)\n",
    "accuracy"
   ]
  },
  {
   "cell_type": "code",
   "execution_count": null,
   "id": "ffbf14b3",
   "metadata": {},
   "outputs": [],
   "source": [
    "# Get feature importances\n",
    "importances = rf.feature_importances_\n",
    "\n",
    "# Sort feature importances in ascending order\n",
    "indices = np.argsort(importances)\n",
    "\n",
    "# Rearrange feature names so they match the sorted feature importances\n",
    "names = [X_train.columns[i] for i in indices]\n",
    "\n",
    "# Create plot\n",
    "plt.figure()\n",
    "\n",
    "# Create plot title\n",
    "plt.title(\"Feature Importance\")\n",
    "\n",
    "# Add bars\n",
    "plt.barh(range(X_train.shape[1]), importances[indices])\n",
    "\n",
    "# Add feature names as y-axis labels and rotate them 90 degrees to the right\n",
    "plt.yticks(range(X_train.shape[1]), names)\n",
    "\n",
    "# Show plot\n",
    "plt.show()\n"
   ]
  },
  {
   "cell_type": "code",
   "execution_count": null,
   "id": "fde5fb60",
   "metadata": {},
   "outputs": [],
   "source": [
    "from sklearn.metrics import confusion_matrix\n",
    "from sklearn.metrics import classification_report\n",
    "y_pred = rf.predict(X_test)\n",
    "cm = confusion_matrix(y_test,y_pred)\n",
    "plt.figure(figsize=(7,5))\n",
    "sns.heatmap(cm,annot=True)\n",
    "plt.xlabel('Predicted')\n",
    "plt.ylabel('actual')\n",
    "\n",
    "print(classification_report(y_test,y_pred, target_names=['Class 0','Class 1']))"
   ]
  },
  {
   "cell_type": "code",
   "execution_count": null,
   "id": "c507c1d9",
   "metadata": {},
   "outputs": [],
   "source": [
    "from sklearn.ensemble import RandomForestClassifier\n",
    "\n",
    "rf_balanced = RandomForestClassifier(random_state=42)\n",
    "rf_balanced.fit(X_train_balanced, y_train_balanced)\n",
    "\n",
    "\n",
    "accuracy = rf_balanced.score(X_test, y_test)\n",
    "accuracy"
   ]
  },
  {
   "cell_type": "code",
   "execution_count": null,
   "id": "700db446",
   "metadata": {},
   "outputs": [],
   "source": [
    "# Get feature importances\n",
    "importances = rf_balanced.feature_importances_\n",
    "\n",
    "# Sort feature importances in ascending order\n",
    "indices = np.argsort(importances)\n",
    "\n",
    "# Rearrange feature names so they match the sorted feature importances\n",
    "names = [X_train.columns[i] for i in indices]\n",
    "\n",
    "# Create plot\n",
    "plt.figure()\n",
    "\n",
    "# Create plot title\n",
    "plt.title(\"Feature Importance\")\n",
    "\n",
    "# Add bars\n",
    "plt.barh(range(X_train.shape[1]), importances[indices])\n",
    "\n",
    "# Add feature names as y-axis labels and rotate them 90 degrees to the right\n",
    "plt.yticks(range(X_train.shape[1]), names)\n",
    "\n",
    "# Show plot\n",
    "plt.show()"
   ]
  },
  {
   "cell_type": "code",
   "execution_count": null,
   "id": "7b656e06",
   "metadata": {},
   "outputs": [],
   "source": [
    "from sklearn.metrics import confusion_matrix\n",
    "from sklearn.metrics import classification_report\n",
    "y_pred = rf_balanced.predict(X_test)\n",
    "cm = confusion_matrix(y_test,y_pred)\n",
    "plt.figure(figsize=(7,5))\n",
    "sns.heatmap(cm,annot=True)\n",
    "plt.xlabel('Predicted')\n",
    "plt.ylabel('actual')\n",
    "\n",
    "print(classification_report(y_test,y_pred, target_names=['Class 0','Class 1']))"
   ]
  },
  {
   "cell_type": "code",
   "execution_count": null,
   "id": "913eead0",
   "metadata": {},
   "outputs": [],
   "source": [
    "import shap\n",
    "explain = shap.Explainer(xgb)\n",
    "\n",
    "shapper = explain(X_test)\n",
    "\n",
    "# Plot the SHAP values for each feature\n",
    "shap.summary_plot(shapper, X_test)"
   ]
  },
  {
   "cell_type": "code",
   "execution_count": null,
   "id": "bfc41b61",
   "metadata": {},
   "outputs": [],
   "source": []
  }
 ],
 "metadata": {
  "kernelspec": {
   "display_name": "Python 3 (ipykernel)",
   "language": "python",
   "name": "python3"
  },
  "language_info": {
   "codemirror_mode": {
    "name": "ipython",
    "version": 3
   },
   "file_extension": ".py",
   "mimetype": "text/x-python",
   "name": "python",
   "nbconvert_exporter": "python",
   "pygments_lexer": "ipython3",
   "version": "3.11.3"
  }
 },
 "nbformat": 4,
 "nbformat_minor": 5
}
